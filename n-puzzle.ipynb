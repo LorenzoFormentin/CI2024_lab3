{
 "cells": [
  {
   "cell_type": "code",
   "execution_count": 14,
   "metadata": {},
   "outputs": [],
   "source": [
    "from collections import namedtuple, deque\n",
    "from heapq import heappush, heappop\n",
    "import numpy as np"
   ]
  },
  {
   "cell_type": "code",
   "execution_count": 15,
   "metadata": {},
   "outputs": [],
   "source": [
    "PUZZLE_DIM = 4\n",
    "action = namedtuple('Action', ['pos1', 'pos2'])\n",
    "\n",
    "def available_actions(state: np.ndarray) -> list['Action']:\n",
    "    x, y = [int(_[0]) for _ in np.where(state == 0)]\n",
    "    actions = list()\n",
    "    if x > 0:\n",
    "        actions.append(action((x, y), (x - 1, y)))\n",
    "    if x < PUZZLE_DIM - 1:\n",
    "        actions.append(action((x, y), (x + 1, y)))\n",
    "    if y > 0:\n",
    "        actions.append(action((x, y), (x, y - 1)))\n",
    "    if y < PUZZLE_DIM - 1:\n",
    "        actions.append(action((x, y), (x, y + 1)))\n",
    "    return actions"
   ]
  },
  {
   "cell_type": "code",
   "execution_count": 16,
   "metadata": {},
   "outputs": [],
   "source": [
    "def do_action(state: np.ndarray, action: 'Action') -> np.ndarray:\n",
    "    new_state = state.copy()\n",
    "    new_state[action.pos1], new_state[action.pos2] = new_state[action.pos2], new_state[action.pos1]\n",
    "    return new_state"
   ]
  },
  {
   "cell_type": "markdown",
   "metadata": {},
   "source": [
    "### Define Heuristic and A* Algorithm"
   ]
  },
  {
   "cell_type": "code",
   "execution_count": 19,
   "metadata": {},
   "outputs": [],
   "source": [
    "# Heuristic function: Manhattan distance\n",
    "def manhattan_distance(state: np.ndarray) -> int:\n",
    "    distance = 0\n",
    "    for x in range(PUZZLE_DIM):\n",
    "        for y in range(PUZZLE_DIM):\n",
    "            value = state[x, y]\n",
    "            if value == 0: \n",
    "                continue\n",
    "            goal_x, goal_y = divmod(value - 1, PUZZLE_DIM)\n",
    "            distance += abs(x - goal_x) + abs(y - goal_y)\n",
    "    return distance\n",
    "\n",
    "# A* Search Algorithm\n",
    "def a_star_search(initial: np.ndarray, goal: np.ndarray):\n",
    "    priority_queue = []\n",
    "    heappush(priority_queue, (0, initial.tobytes(), [], 0)) \n",
    "    visited = set()\n",
    "    node_evaluated = 0\n",
    "    \n",
    "    while priority_queue:\n",
    "        _, current_ser, path, cost = heappop(priority_queue)\n",
    "        current = np.frombuffer(current_ser, dtype=initial.dtype).reshape(initial.shape)\n",
    "        node_evaluated += 1\n",
    "        \n",
    "        if np.array_equal(current, goal):\n",
    "            print(current)\n",
    "            return path, node_evaluated  # Return solution path\n",
    "        \n",
    "        visited.add(current_ser)\n",
    "        \n",
    "        for action in available_actions(current):\n",
    "            next_state = do_action(current, action)\n",
    "            next_ser = next_state.tobytes()\n",
    "            if next_ser in visited:\n",
    "                continue\n",
    "            \n",
    "            new_cost = cost + 1\n",
    "            priority = new_cost + manhattan_distance(next_state)\n",
    "            heappush(priority_queue, (priority, next_ser, path + [action], new_cost))\n",
    "    \n",
    "    return None, None "
   ]
  },
  {
   "cell_type": "markdown",
   "metadata": {},
   "source": [
    "### Execution and Results"
   ]
  },
  {
   "cell_type": "code",
   "execution_count": 18,
   "metadata": {},
   "outputs": [
    {
     "name": "stdout",
     "output_type": "stream",
     "text": [
      "[[ 1  2  3  4]\n",
      " [ 5  6  7  8]\n",
      " [ 9 10 11 12]\n",
      " [13 14 15  0]]\n",
      "Solution found in 40 moves.\n",
      "Total cost: 625970\n",
      "Efficiency: 0.00\n",
      "Solution steps:\n",
      "Action(pos1=(3, 3), pos2=(3, 2))\n",
      "Action(pos1=(3, 2), pos2=(3, 1))\n",
      "Action(pos1=(3, 1), pos2=(2, 1))\n",
      "Action(pos1=(2, 1), pos2=(2, 2))\n",
      "Action(pos1=(2, 2), pos2=(1, 2))\n",
      "Action(pos1=(1, 2), pos2=(1, 1))\n",
      "Action(pos1=(1, 1), pos2=(1, 0))\n",
      "Action(pos1=(1, 0), pos2=(2, 0))\n",
      "Action(pos1=(2, 0), pos2=(2, 1))\n",
      "Action(pos1=(2, 1), pos2=(2, 2))\n",
      "Action(pos1=(2, 2), pos2=(1, 2))\n",
      "Action(pos1=(1, 2), pos2=(1, 1))\n",
      "Action(pos1=(1, 1), pos2=(0, 1))\n",
      "Action(pos1=(0, 1), pos2=(0, 2))\n",
      "Action(pos1=(0, 2), pos2=(0, 3))\n",
      "Action(pos1=(0, 3), pos2=(1, 3))\n",
      "Action(pos1=(1, 3), pos2=(2, 3))\n",
      "Action(pos1=(2, 3), pos2=(2, 2))\n",
      "Action(pos1=(2, 2), pos2=(1, 2))\n",
      "Action(pos1=(1, 2), pos2=(0, 2))\n",
      "Action(pos1=(0, 2), pos2=(0, 3))\n",
      "Action(pos1=(0, 3), pos2=(1, 3))\n",
      "Action(pos1=(1, 3), pos2=(1, 2))\n",
      "Action(pos1=(1, 2), pos2=(0, 2))\n",
      "Action(pos1=(0, 2), pos2=(0, 1))\n",
      "Action(pos1=(0, 1), pos2=(1, 1))\n",
      "Action(pos1=(1, 1), pos2=(1, 0))\n",
      "Action(pos1=(1, 0), pos2=(2, 0))\n",
      "Action(pos1=(2, 0), pos2=(2, 1))\n",
      "Action(pos1=(2, 1), pos2=(3, 1))\n",
      "Action(pos1=(3, 1), pos2=(3, 2))\n",
      "Action(pos1=(3, 2), pos2=(2, 2))\n",
      "Action(pos1=(2, 2), pos2=(2, 3))\n",
      "Action(pos1=(2, 3), pos2=(1, 3))\n",
      "Action(pos1=(1, 3), pos2=(1, 2))\n",
      "Action(pos1=(1, 2), pos2=(1, 1))\n",
      "Action(pos1=(1, 1), pos2=(2, 1))\n",
      "Action(pos1=(2, 1), pos2=(2, 2))\n",
      "Action(pos1=(2, 2), pos2=(3, 2))\n",
      "Action(pos1=(3, 2), pos2=(3, 3))\n"
     ]
    }
   ],
   "source": [
    "# An example of a possible initial state with n=4\n",
    "initial_state = np.array([\n",
    "    [1, 2, 3, 12],\n",
    "    [11, 10, 9, 8],\n",
    "    [7, 6, 5, 4],\n",
    "    [13, 14, 15, 0]\n",
    "])\n",
    "\n",
    "goal_state = np.array([i for i in range(1, PUZZLE_DIM**2)] + [0]).reshape((PUZZLE_DIM, PUZZLE_DIM))\n",
    "solution_path, tot_cost = a_star_search(initial_state, goal_state)\n",
    "\n",
    "if solution_path:\n",
    "    print(f\"Solution found in {len(solution_path)} moves.\")\n",
    "    print(f\"Total cost: {tot_cost}\")\n",
    "    print(\"Solution steps:\")\n",
    "    for step in solution_path:\n",
    "        print(step)\n",
    "else:\n",
    "    print(\"No solution found.\")"
   ]
  }
 ],
 "metadata": {
  "kernelspec": {
   "display_name": "Python 3",
   "language": "python",
   "name": "python3"
  },
  "language_info": {
   "codemirror_mode": {
    "name": "ipython",
    "version": 3
   },
   "file_extension": ".py",
   "mimetype": "text/x-python",
   "name": "python",
   "nbconvert_exporter": "python",
   "pygments_lexer": "ipython3",
   "version": "3.10.12"
  }
 },
 "nbformat": 4,
 "nbformat_minor": 2
}
